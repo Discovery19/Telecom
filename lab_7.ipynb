{
  "cells": [
    {
      "cell_type": "markdown",
      "metadata": {
        "id": "view-in-github",
        "colab_type": "text"
      },
      "source": [
        "<a href=\"https://colab.research.google.com/github/Discovery19/Telecom/blob/main/lab_7.ipynb\" target=\"_parent\"><img src=\"https://colab.research.google.com/assets/colab-badge.svg\" alt=\"Open In Colab\"/></a>"
      ]
    },
    {
      "cell_type": "markdown",
      "metadata": {
        "id": "c1sTlJF73aOv"
      },
      "source": [
        "## Лабораторная №7\n"
      ]
    },
    {
      "cell_type": "code",
      "execution_count": null,
      "metadata": {
        "id": "ji3AZSpA3aOw"
      },
      "outputs": [],
      "source": [
        "import numpy as np\n",
        "PI2 = 2 * np.pi"
      ]
    },
    {
      "cell_type": "markdown",
      "metadata": {
        "id": "-otHSWd13aOx"
      },
      "source": [
        "## Задание 1\n",
        "\n"
      ]
    },
    {
      "cell_type": "markdown",
      "metadata": {
        "id": "u5GiSIQ13aOx"
      },
      "source": [
        "В качестве тестового примера я начну с небольшого действительного сигнала и вычислю его БПФ:"
      ]
    },
    {
      "cell_type": "code",
      "execution_count": null,
      "metadata": {
        "jupyter": {
          "outputs_hidden": false
        },
        "id": "W8gy9OC93aOx",
        "outputId": "2e5d6c80-5403-4746-b2a8-6d1a805eb330"
      },
      "outputs": [
        {
          "name": "stdout",
          "output_type": "stream",
          "text": [
            "[ 0.2+0.j  -1.2-0.2j  0.2+0.j  -1.2+0.2j]\n"
          ]
        }
      ],
      "source": [
        "ys = [-0.5, 0.1, 0.7, -0.1]\n",
        "hs = np.fft.fft(ys)\n",
        "print(hs)"
      ]
    },
    {
      "cell_type": "markdown",
      "metadata": {
        "id": "uyKT52zK3aOx"
      },
      "source": [
        "Вот моя реализация ДПФ из книги:"
      ]
    },
    {
      "cell_type": "code",
      "execution_count": null,
      "metadata": {
        "jupyter": {
          "outputs_hidden": false
        },
        "id": "b8OuZQNY3aOx"
      },
      "outputs": [],
      "source": [
        "def dft(ys):\n",
        "    N = len(ys)\n",
        "    ts = np.arange(N) / N\n",
        "    freqs = np.arange(N)\n",
        "    args = np.outer(ts, freqs)\n",
        "    M = np.exp(1j * PI2 * args)\n",
        "    amps = M.conj().transpose().dot(ys)\n",
        "    return amps"
      ]
    },
    {
      "cell_type": "markdown",
      "metadata": {
        "id": "cHhjJ7nN3aOy"
      },
      "source": [
        "Мы можем подтвердить, что эта реализация дает тот же результат."
      ]
    },
    {
      "cell_type": "code",
      "execution_count": null,
      "metadata": {
        "jupyter": {
          "outputs_hidden": false
        },
        "id": "chSKbvfV3aOy",
        "outputId": "d9766144-a5b4-4cfa-8a95-b3e787b4c005"
      },
      "outputs": [
        {
          "data": {
            "text/plain": [
              "5.864775846765962e-16"
            ]
          },
          "execution_count": 4,
          "metadata": {},
          "output_type": "execute_result"
        }
      ],
      "source": [
        "hs2 = dft(ys)\n",
        "np.sum(np.abs(hs - hs2))"
      ]
    },
    {
      "cell_type": "markdown",
      "metadata": {
        "id": "Y8Ey_The3aOy"
      },
      "source": [
        "В качестве шага к созданию рекурсивного БПФ я начну с версии, которая разделяет входной массив и использует np.fft.fft для вычисления БПФ половин."
      ]
    },
    {
      "cell_type": "code",
      "execution_count": null,
      "metadata": {
        "jupyter": {
          "outputs_hidden": false
        },
        "id": "luv9D4mm3aOy"
      },
      "outputs": [],
      "source": [
        "def fft_norec(ys):\n",
        "    N = len(ys)\n",
        "    He = np.fft.fft(ys[::2])\n",
        "    Ho = np.fft.fft(ys[1::2])\n",
        "\n",
        "    ns = np.arange(N)\n",
        "    W = np.exp(-1j * PI2 * ns / N)\n",
        "\n",
        "    return np.tile(He, 2) + W * np.tile(Ho, 2)"
      ]
    },
    {
      "cell_type": "markdown",
      "metadata": {
        "id": "4qaXegCS3aOy"
      },
      "source": [
        "И мы получаем те же результаты:"
      ]
    },
    {
      "cell_type": "code",
      "execution_count": null,
      "metadata": {
        "jupyter": {
          "outputs_hidden": false
        },
        "id": "JT-Rnevf3aOy",
        "outputId": "36bf7581-947e-4f8c-86a4-b4c75f030c30"
      },
      "outputs": [
        {
          "data": {
            "text/plain": [
              "0.0"
            ]
          },
          "execution_count": 6,
          "metadata": {},
          "output_type": "execute_result"
        }
      ],
      "source": [
        "hs3 = fft_norec(ys)\n",
        "np.sum(np.abs(hs - hs3))"
      ]
    },
    {
      "cell_type": "markdown",
      "metadata": {
        "id": "WowXtTnW3aOy"
      },
      "source": [
        "Наконец, мы можем заменить `np.fft.fft` рекурсивными вызовами и добавить базовый вариант:"
      ]
    },
    {
      "cell_type": "code",
      "execution_count": null,
      "metadata": {
        "jupyter": {
          "outputs_hidden": false
        },
        "id": "8BZQVd5o3aOy"
      },
      "outputs": [],
      "source": [
        "def fft(ys):\n",
        "    N = len(ys)\n",
        "    if N == 1:\n",
        "        return ys\n",
        "\n",
        "    He = fft(ys[::2])\n",
        "    Ho = fft(ys[1::2])\n",
        "\n",
        "    ns = np.arange(N)\n",
        "    W = np.exp(-1j * PI2 * ns / N)\n",
        "\n",
        "    return np.tile(He, 2) + W * np.tile(Ho, 2)"
      ]
    },
    {
      "cell_type": "markdown",
      "metadata": {
        "id": "zB7Gl4h83aOy"
      },
      "source": [
        "И мы получаем те же результаты:"
      ]
    },
    {
      "cell_type": "code",
      "execution_count": null,
      "metadata": {
        "jupyter": {
          "outputs_hidden": false
        },
        "id": "X3tK5H4G3aOy",
        "outputId": "09ab1a15-b07a-4c7d-eb2d-ea197ad22b92"
      },
      "outputs": [
        {
          "data": {
            "text/plain": [
              "1.6653345369377348e-16"
            ]
          },
          "execution_count": 8,
          "metadata": {},
          "output_type": "execute_result"
        }
      ],
      "source": [
        "hs4 = fft(ys)\n",
        "np.sum(np.abs(hs - hs4))"
      ]
    },
    {
      "cell_type": "markdown",
      "source": [],
      "metadata": {
        "id": "pc_xhHWI37ZC"
      }
    },
    {
      "cell_type": "markdown",
      "metadata": {
        "id": "MepZsyag3aOy"
      },
      "source": [
        "Эта реализация FFT занимает время, пропорциональное $n \\log n$. Она также занимает пространство, пропорциональное $n \\log n$, и тратит некоторое время на создание и копирование массивов. Ее можно улучшить для работы «на месте»; в этом случае она не требует дополнительного пространства и тратит меньше времени на накладные расходы."
      ]
    },
    {
      "cell_type": "code",
      "execution_count": null,
      "metadata": {
        "collapsed": true,
        "jupyter": {
          "outputs_hidden": true
        },
        "id": "mb5pzr7o3aOz"
      },
      "outputs": [],
      "source": []
    }
  ],
  "metadata": {
    "kernelspec": {
      "display_name": "Python 3",
      "language": "python",
      "name": "python3"
    },
    "language_info": {
      "codemirror_mode": {
        "name": "ipython",
        "version": 3
      },
      "file_extension": ".py",
      "mimetype": "text/x-python",
      "name": "python",
      "nbconvert_exporter": "python",
      "pygments_lexer": "ipython3",
      "version": "3.8.5"
    },
    "colab": {
      "provenance": [],
      "include_colab_link": true
    }
  },
  "nbformat": 4,
  "nbformat_minor": 0
}